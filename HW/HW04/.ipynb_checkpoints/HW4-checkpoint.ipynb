{
 "cells": [
  {
   "cell_type": "markdown",
   "id": "c974d35e",
   "metadata": {},
   "source": [
    "# Problem 1"
   ]
  },
  {
   "cell_type": "code",
   "execution_count": 1,
   "id": "a60cd5ec",
   "metadata": {},
   "outputs": [],
   "source": [
    "import pandas as pd\n",
    "import numpy as np\n",
    "import matplotlib.pyplot as plt\n",
    "from HW4 import *"
   ]
  },
  {
   "cell_type": "markdown",
   "id": "000ded91",
   "metadata": {},
   "source": [
    "# Q1"
   ]
  },
  {
   "cell_type": "code",
   "execution_count": 4,
   "id": "159f116c",
   "metadata": {},
   "outputs": [],
   "source": [
    "m = 3\n",
    "n = 3\n",
    "ind = [[0,0], [0,1], [1,2], [2,1]]\n",
    "# ind = [[0,0], [0,1], [1,1]]"
   ]
  },
  {
   "cell_type": "code",
   "execution_count": 6,
   "id": "2aaaac2d",
   "metadata": {},
   "outputs": [
    {
     "data": {
      "text/plain": [
       "array([1., 1., 2., 3.])"
      ]
     },
     "execution_count": 6,
     "metadata": {},
     "output_type": "execute_result"
    }
   ],
   "source": [
    "calc_green_land(m, n, ind)[0]"
   ]
  },
  {
   "cell_type": "code",
   "execution_count": 7,
   "id": "5d17aa26",
   "metadata": {},
   "outputs": [],
   "source": [
    "def foo(p, q, m):\n",
    "    num_hours = len(p)\n",
    "    loss = np.zeros(num_hours)\n",
    "    happy_customers = 0\n",
    "    for i in range(0, num_hours):\n",
    "        if q[i] == 1:\n",
    "            loss[i] = p[i]\n",
    "        else:\n",
    "            happy_customers += p[i]\n",
    "            \n",
    "    loss_sums = np.convolve(loss, np.ones(m, dtype=int), 'valid')\n",
    "    return int(happy_customers + loss_sums.max())"
   ]
  },
  {
   "cell_type": "code",
   "execution_count": 45,
   "id": "e101c90f",
   "metadata": {},
   "outputs": [],
   "source": [
    "p = [1,2,3,4]\n",
    "q = [1,0,0,1]\n",
    "m = 1"
   ]
  },
  {
   "cell_type": "code",
   "execution_count": 46,
   "id": "47c63a47",
   "metadata": {},
   "outputs": [
    {
     "data": {
      "text/plain": [
       "9"
      ]
     },
     "execution_count": 46,
     "metadata": {},
     "output_type": "execute_result"
    }
   ],
   "source": [
    "foo(p, q, m)"
   ]
  },
  {
   "cell_type": "code",
   "execution_count": 47,
   "id": "aa36665c",
   "metadata": {},
   "outputs": [
    {
     "data": {
      "text/plain": [
       "9"
      ]
     },
     "execution_count": 47,
     "metadata": {},
     "output_type": "execute_result"
    }
   ],
   "source": [
    "angry_cook(p, q, m)"
   ]
  },
  {
   "cell_type": "markdown",
   "id": "fd7f8b2e",
   "metadata": {},
   "source": [
    "# Tests"
   ]
  },
  {
   "cell_type": "code",
   "execution_count": 53,
   "id": "2153b6de",
   "metadata": {},
   "outputs": [
    {
     "data": {
      "text/plain": [
       "[[1, 0, 0, 0, 0],\n",
       " [0, 0, 0, 1, 0],\n",
       " [0, 1, 0, 0, 0],\n",
       " [0, 1, 0, 0, 0],\n",
       " [0, 1, 1, 1, 0],\n",
       " [0, 0, 0, 0, 0]]"
      ]
     },
     "execution_count": 53,
     "metadata": {},
     "output_type": "execute_result"
    }
   ],
   "source": [
    "matrix = [\n",
    "   [1, 0, 0, 0, 0],\n",
    "   [0, 0, 0, 1, 0],\n",
    "   [0, 1, 0, 0, 0],\n",
    "   [0, 1, 0, 0, 0],\n",
    "   [0, 1, 1, 1, 0],\n",
    "   [0, 0, 0, 0, 0]\n",
    "]\n",
    "matrix"
   ]
  },
  {
   "cell_type": "code",
   "execution_count": 59,
   "id": "ab01903d",
   "metadata": {},
   "outputs": [
    {
     "data": {
      "text/plain": [
       "[(0, 0), (1, 3), (2, 1), (3, 1), (4, 1), (4, 2), (4, 3)]"
      ]
     },
     "execution_count": 59,
     "metadata": {},
     "output_type": "execute_result"
    }
   ],
   "source": [
    "ind = list(zip(*np.where(matrix)))\n",
    "ind"
   ]
  },
  {
   "cell_type": "code",
   "execution_count": 58,
   "id": "de0fc8bf",
   "metadata": {},
   "outputs": [
    {
     "data": {
      "text/plain": [
       "(array([1., 2., 3., 3., 3., 3., 3.]), array([1., 2., 3., 3., 3., 3., 3.]))"
      ]
     },
     "execution_count": 58,
     "metadata": {},
     "output_type": "execute_result"
    }
   ],
   "source": [
    "\n",
    "calc_green_land(6, 6, ind)"
   ]
  },
  {
   "cell_type": "code",
   "execution_count": 80,
   "id": "6a6bd80d",
   "metadata": {},
   "outputs": [
    {
     "data": {
      "text/plain": [
       "3"
      ]
     },
     "execution_count": 80,
     "metadata": {},
     "output_type": "execute_result"
    }
   ],
   "source": [
    "count_green_land(np.array(matrix))"
   ]
  },
  {
   "cell_type": "code",
   "execution_count": null,
   "id": "765d8678",
   "metadata": {},
   "outputs": [],
   "source": []
  },
  {
   "cell_type": "markdown",
   "id": "685fbdf6",
   "metadata": {},
   "source": [
    "# Q2"
   ]
  },
  {
   "cell_type": "code",
   "execution_count": null,
   "id": "20ab568f",
   "metadata": {},
   "outputs": [],
   "source": [
    "np.convolve()"
   ]
  }
 ],
 "metadata": {
  "kernelspec": {
   "display_name": "Python [conda env:tf_m1] *",
   "language": "python",
   "name": "conda-env-tf_m1-py"
  },
  "language_info": {
   "codemirror_mode": {
    "name": "ipython",
    "version": 3
   },
   "file_extension": ".py",
   "mimetype": "text/x-python",
   "name": "python",
   "nbconvert_exporter": "python",
   "pygments_lexer": "ipython3",
   "version": "3.9.9"
  },
  "toc": {
   "base_numbering": 1,
   "nav_menu": {},
   "number_sections": true,
   "sideBar": true,
   "skip_h1_title": false,
   "title_cell": "Table of Contents",
   "title_sidebar": "Contents",
   "toc_cell": false,
   "toc_position": {},
   "toc_section_display": true,
   "toc_window_display": false
  }
 },
 "nbformat": 4,
 "nbformat_minor": 5
}
